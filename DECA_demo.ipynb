{
  "nbformat": 4,
  "nbformat_minor": 0,
  "metadata": {
    "accelerator": "GPU",
    "colab": {
      "name": "DECA_demo",
      "provenance": [],
      "collapsed_sections": [],
      "machine_shape": "hm",
      "mount_file_id": "1jE-ahih6Vlf5AWvnvMlKjO9vxHKi8q-A",
      "authorship_tag": "ABX9TyNm3purrmWBfcm/aXOaBD7K",
      "include_colab_link": true
    },
    "kernelspec": {
      "display_name": "Python 3",
      "name": "python3"
    }
  },
  "cells": [
    {
      "cell_type": "markdown",
      "metadata": {
        "id": "view-in-github",
        "colab_type": "text"
      },
      "source": [
        "<a href=\"https://colab.research.google.com/github/cedro3/DECA/blob/master/DECA_demo.ipynb\" target=\"_parent\"><img src=\"https://colab.research.google.com/assets/colab-badge.svg\" alt=\"Open In Colab\"/></a>"
      ]
    },
    {
      "cell_type": "markdown",
      "metadata": {
        "id": "lqhnoWR-BwK3"
      },
      "source": [
        "# セットアップ"
      ]
    },
    {
      "cell_type": "code",
      "metadata": {
        "id": "NcVyW1cc1LAV"
      },
      "source": [
        "# ライブラリー取得\n",
        "!pip install torch==1.6.0+cu101 torchvision==0.7.0+cu101 -f https://download.pytorch.org/whl/torch_stable.html\n",
        "!pip install pytorch3d\n",
        "\n",
        "# githubからコードを取得\n",
        "!git clone https://github.com/cedro3/DECA.git\n",
        "%cd DECA\n",
        "!pip install -r requirements.txt"
      ],
      "execution_count": null,
      "outputs": []
    },
    {
      "cell_type": "code",
      "source": [
        "# Google drive から必要なデータをダウンロードし、dataフォルダーにコピーする\n",
        "! pip install --upgrade gdown\n",
        "import gdown\n",
        "gdown.download('https://drive.google.com/uc?id=117mFRXjRD75YNzS3660BfiZCVgiY-At1', 'deca.zip', quiet=False)\n",
        "! unzip -d data deca.zip"
      ],
      "metadata": {
        "id": "_z3w3SuMP4NH"
      },
      "execution_count": null,
      "outputs": []
    },
    {
      "cell_type": "markdown",
      "metadata": {
        "id": "EV7tldlbB6aw"
      },
      "source": [
        "# Demo"
      ]
    },
    {
      "cell_type": "code",
      "metadata": {
        "id": "_1rBLJrlIgUF"
      },
      "source": [
        "!python demos/demo_reconstruct.py -i TestSamples/examples --saveDepth True --saveObj True"
      ],
      "execution_count": null,
      "outputs": []
    },
    {
      "cell_type": "code",
      "metadata": {
        "id": "Co0rJdOsGafp"
      },
      "source": [
        "# display demo_reconstruct\n",
        "import os\n",
        "import cv2\n",
        "import numpy as np\n",
        "import matplotlib.pyplot as plt\n",
        "import glob\n",
        "\n",
        "files = sorted(glob.glob('./TestSamples/examples/results/*.jpg'))\n",
        "for file in files:\n",
        "     fig = plt.figure(figsize=(10,2))\n",
        "     img = cv2.imread(file)\n",
        "     img_RGB = img[:, :, ::-1]\n",
        "     plt.imshow(img_RGB)\n",
        "     plt.show()"
      ],
      "execution_count": null,
      "outputs": []
    },
    {
      "cell_type": "code",
      "metadata": {
        "id": "IeUmrPkcNaYW"
      },
      "source": [
        "!python demos/demo_teaser.py"
      ],
      "execution_count": null,
      "outputs": []
    },
    {
      "cell_type": "code",
      "metadata": {
        "id": "G6-0Ar8XC2xW"
      },
      "source": [
        "# display demo_teaser\n",
        "from IPython.display import Image\n",
        "Image('./TestSamples/teaser/results/teaser.gif', format='png')"
      ],
      "execution_count": null,
      "outputs": []
    }
  ]
}